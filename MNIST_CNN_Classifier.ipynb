{
 "cells": [
  {
   "cell_type": "code",
   "execution_count": 1,
   "metadata": {},
   "outputs": [],
   "source": [
    "from tensorflow.keras import models, layers\n",
    "from tensorflow.keras.datasets import mnist\n",
    "from tensorflow.keras.utils import to_categorical\n",
    "from tensorflow.keras.callbacks import ModelCheckpoint, TensorBoard, CSVLogger, EarlyStopping\n",
    "import matplotlib.pyplot as plt\n",
    "import numpy as np\n",
    "import cv2\n",
    "import tensorflow as tf\n",
    "import datetime\n",
    "import keras_metrics as km"
   ]
  },
  {
   "cell_type": "code",
   "execution_count": 2,
   "metadata": {},
   "outputs": [],
   "source": [
    "(x_train, y_train), (x_test, y_test) = mnist.load_data()"
   ]
  },
  {
   "cell_type": "code",
   "execution_count": 3,
   "metadata": {},
   "outputs": [
    {
     "data": {
      "image/png": "[encoded data removed]",
      "text/plain": [
       "<Figure size 720x720 with 10 Axes>"
      ]
     },
     "metadata": {
      "needs_background": "light"
     },
     "output_type": "display_data"
    }
   ],
   "source": [
    "fig, ax = plt.subplots(1, 10, figsize=(10,10))\n",
    "for i in range(0, 10):\n",
    "    ax[i].xaxis.set_visible(False)\n",
    "    ax[i].yaxis.set_visible(False)\n",
    "    ax[i].set_title(y_train[i])\n",
    "    ax[i].imshow(x_train[i], cmap=plt.cm.binary)"
   ]
  },
  {
   "cell_type": "code",
   "execution_count": 4,
   "metadata": {},
   "outputs": [],
   "source": [
    "x_train = np.expand_dims(x_train, axis=-1).astype('float32')\n",
    "x_test = np.expand_dims(x_test, axis=-1).astype('float32')"
   ]
  },
  {
   "cell_type": "code",
   "execution_count": 5,
   "metadata": {},
   "outputs": [],
   "source": [
    "x_train /= 255\n",
    "x_test /= 255"
   ]
  },
  {
   "cell_type": "code",
   "execution_count": 6,
   "metadata": {},
   "outputs": [
    {
     "name": "stdout",
     "output_type": "stream",
     "text": [
      "Data shape (60000, 28, 28, 1)\n",
      "Number of training samples: 60000\n",
      "Number of testing samples: 10000\n"
     ]
    }
   ],
   "source": [
    "print('Data shape', x_train.shape)\n",
    "print('Number of training samples:', x_train.shape[0])\n",
    "print('Number of testing samples:', x_test.shape[0])"
   ]
  },
  {
   "cell_type": "code",
   "execution_count": 7,
   "metadata": {},
   "outputs": [
    {
     "name": "stdout",
     "output_type": "stream",
     "text": [
      "Number of classes:  10\n"
     ]
    }
   ],
   "source": [
    "y_train = to_categorical(y_train)\n",
    "y_test = to_categorical(y_test)\n",
    "\n",
    "num_classes = y_train.shape[1]\n",
    "num_features = x_train.shape[1] + x_train.shape[2]\n",
    "\n",
    "print('Number of classes: ', num_classes)"
   ]
  },
  {
   "cell_type": "code",
   "execution_count": 8,
   "metadata": {},
   "outputs": [],
   "source": [
    "model = models.Sequential()\n",
    "model.add(layers.Conv2D(32, (3, 3), padding = 'same', activation='relu', kernel_initializer='he_uniform', input_shape=(x_train.shape[1], x_train.shape[2], 1)))\n",
    "model.add(layers.MaxPooling2D((2, 2)))\n",
    "model.add(layers.Dropout(0.25))\n",
    "model.add(layers.Conv2D(64, (3, 3), padding = 'same', activation='relu', kernel_initializer='he_uniform'))\n",
    "model.add(layers.MaxPooling2D((2, 2)))\n",
    "model.add(layers.Dropout(0.25))\n",
    "model.add(layers.Conv2D(64, (3, 3), padding = 'same', activation='relu', kernel_initializer='he_uniform'))\n",
    "model.add(layers.Flatten())\n",
    "model.add(layers.Dense(128, activation='relu', kernel_initializer='he_uniform'))\n",
    "model.add(layers.Dropout(0.5))\n",
    "model.add(layers.Dense(10, activation='softmax', kernel_initializer='glorot_uniform'))\n",
    "\n",
    "model.compile(optimizer='adam', loss='categorical_crossentropy', metrics=['accuracy'])"
   ]
  },
  {
   "cell_type": "code",
   "execution_count": 9,
   "metadata": {},
   "outputs": [
    {
     "name": "stdout",
     "output_type": "stream",
     "text": [
      "Model: \"sequential\"\n",
      "_________________________________________________________________\n",
      "Layer (type)                 Output Shape              Param #   \n",
      "=================================================================\n",
      "conv2d (Conv2D)              (None, 28, 28, 32)        320       \n",
      "_________________________________________________________________\n",
      "max_pooling2d (MaxPooling2D) (None, 14, 14, 32)        0         \n",
      "_________________________________________________________________\n",
      "dropout (Dropout)            (None, 14, 14, 32)        0         \n",
      "_________________________________________________________________\n",
      "conv2d_1 (Conv2D)            (None, 14, 14, 64)        18496     \n",
      "_________________________________________________________________\n",
      "max_pooling2d_1 (MaxPooling2 (None, 7, 7, 64)          0         \n",
      "_________________________________________________________________\n",
      "dropout_1 (Dropout)          (None, 7, 7, 64)          0         \n",
      "_________________________________________________________________\n",
      "conv2d_2 (Conv2D)            (None, 7, 7, 64)          36928     \n",
      "_________________________________________________________________\n",
      "flatten (Flatten)            (None, 3136)              0         \n",
      "_________________________________________________________________\n",
      "dense (Dense)                (None, 128)               401536    \n",
      "_________________________________________________________________\n",
      "dropout_2 (Dropout)          (None, 128)               0         \n",
      "_________________________________________________________________\n",
      "dense_1 (Dense)              (None, 10)                1290      \n",
      "=================================================================\n",
      "Total params: 458,570\n",
      "Trainable params: 458,570\n",
      "Non-trainable params: 0\n",
      "_________________________________________________________________\n"
     ]
    }
   ],
   "source": [
    "model.summary()"
   ]
  },
  {
   "cell_type": "code",
   "execution_count": 10,
   "metadata": {},
   "outputs": [],
   "source": [
    "log_path = 'logs/'\n",
    "keyname = 'mnist'\n",
    "cur_date = datetime.datetime.now().strftime(\"%Y%m%d-%H%M%S\")\n",
    "tb_log_dir = log_path + \"fit/\" + keyname + '_' + cur_date \n",
    "tensorboard_callback = TensorBoard(log_dir=tb_log_dir, histogram_freq=1)\n",
    "model_checkpoint = ModelCheckpoint('model_'+keyname+'.hdf5', monitor='loss',verbose=1, save_best_only=True)\n",
    "early_stopping = EarlyStopping(monitor='val_loss', verbose=1, patience=6)\n",
    "csv_logger = CSVLogger(log_path + keyname + '_' + cur_date + '.log', separator=',', append=False)"
   ]
  },
  {
   "cell_type": "code",
   "execution_count": 11,
   "metadata": {},
   "outputs": [
    {
     "name": "stdout",
     "output_type": "stream",
     "text": [
      "Epoch 1/100\n",
      "   1/1313 [..............................] - ETA: 0s - loss: 3.4809 - accuracy: 0.0000e+00WARNING:tensorflow:From e:\\miniconda\\envs\\tensorflow383\\lib\\site-packages\\tensorflow\\python\\ops\\summary_ops_v2.py:1277: stop (from tensorflow.python.eager.profiler) is deprecated and will be removed after 2020-07-01.\n",
      "Instructions for updating:\n",
      "use `tf.profiler.experimental.stop` instead.\n",
      "   2/1313 [..............................] - ETA: 39s - loss: 3.1462 - accuracy: 0.0938   WARNING:tensorflow:Callbacks method `on_train_batch_end` is slow compared to the batch time (batch time: 0.0080s vs `on_train_batch_end` time: 0.0479s). Check your callbacks.\n",
      "1313/1313 [==============================] - ETA: 0s - loss: 0.3223 - accuracy: 0.8987\n",
      "Epoch 00001: loss improved from inf to 0.32226, saving model to model_mnist.hdf5\n",
      "1313/1313 [==============================] - 7s 6ms/step - loss: 0.3223 - accuracy: 0.8987 - val_loss: 0.0703 - val_accuracy: 0.9788\n",
      "Epoch 2/100\n",
      "1304/1313 [============================>.] - ETA: 0s - loss: 0.1100 - accuracy: 0.9684\n",
      "Epoch 00002: loss improved from 0.32226 to 0.10980, saving model to model_mnist.hdf5\n",
      "1313/1313 [==============================] - 7s 5ms/step - loss: 0.1098 - accuracy: 0.9685 - val_loss: 0.0521 - val_accuracy: 0.9837\n",
      "Epoch 3/100\n",
      "1303/1313 [============================>.] - ETA: 0s - loss: 0.0811 - accuracy: 0.9769\n",
      "Epoch 00003: loss improved from 0.10980 to 0.08083, saving model to model_mnist.hdf5\n",
      "1313/1313 [==============================] - 7s 5ms/step - loss: 0.0808 - accuracy: 0.9769 - val_loss: 0.0459 - val_accuracy: 0.9874\n",
      "Epoch 4/100\n",
      "1311/1313 [============================>.] - ETA: 0s - loss: 0.0665 - accuracy: 0.9808\n",
      "Epoch 00004: loss improved from 0.08083 to 0.06653, saving model to model_mnist.hdf5\n",
      "1313/1313 [==============================] - 7s 5ms/step - loss: 0.0665 - accuracy: 0.9808 - val_loss: 0.0414 - val_accuracy: 0.9883\n",
      "Epoch 5/100\n",
      "1312/1313 [============================>.] - ETA: 0s - loss: 0.0539 - accuracy: 0.9842\n",
      "Epoch 00005: loss improved from 0.06653 to 0.05389, saving model to model_mnist.hdf5\n",
      "1313/1313 [==============================] - 7s 5ms/step - loss: 0.0539 - accuracy: 0.9842 - val_loss: 0.0478 - val_accuracy: 0.9859\n",
      "Epoch 6/100\n",
      "1309/1313 [============================>.] - ETA: 0s - loss: 0.0482 - accuracy: 0.9849\n",
      "Epoch 00006: loss improved from 0.05389 to 0.04832, saving model to model_mnist.hdf5\n",
      "1313/1313 [==============================] - 7s 5ms/step - loss: 0.0483 - accuracy: 0.9849 - val_loss: 0.0378 - val_accuracy: 0.9901\n",
      "Epoch 7/100\n",
      "1304/1313 [============================>.] - ETA: 0s - loss: 0.0431 - accuracy: 0.9873\n",
      "Epoch 00007: loss improved from 0.04832 to 0.04308, saving model to model_mnist.hdf5\n",
      "1313/1313 [==============================] - 7s 5ms/step - loss: 0.0431 - accuracy: 0.9873 - val_loss: 0.0430 - val_accuracy: 0.9892\n",
      "Epoch 8/100\n",
      "1308/1313 [============================>.] - ETA: 0s - loss: 0.0424 - accuracy: 0.9871\n",
      "Epoch 00008: loss improved from 0.04308 to 0.04236, saving model to model_mnist.hdf5\n",
      "1313/1313 [==============================] - 7s 5ms/step - loss: 0.0424 - accuracy: 0.9871 - val_loss: 0.0401 - val_accuracy: 0.9902\n",
      "Epoch 9/100\n",
      "1311/1313 [============================>.] - ETA: 0s - loss: 0.0356 - accuracy: 0.9891\n",
      "Epoch 00009: loss improved from 0.04236 to 0.03560, saving model to model_mnist.hdf5\n",
      "1313/1313 [==============================] - 7s 5ms/step - loss: 0.0356 - accuracy: 0.9891 - val_loss: 0.0382 - val_accuracy: 0.9913\n",
      "Epoch 10/100\n",
      "1313/1313 [==============================] - ETA: 0s - loss: 0.0357 - accuracy: 0.9890\n",
      "Epoch 00010: loss did not improve from 0.03560\n",
      "1313/1313 [==============================] - 7s 5ms/step - loss: 0.0357 - accuracy: 0.9890 - val_loss: 0.0371 - val_accuracy: 0.9910\n",
      "Epoch 11/100\n",
      "1309/1313 [============================>.] - ETA: 0s - loss: 0.0333 - accuracy: 0.9896\n",
      "Epoch 00011: loss improved from 0.03560 to 0.03349, saving model to model_mnist.hdf5\n",
      "1313/1313 [==============================] - 7s 5ms/step - loss: 0.0335 - accuracy: 0.9896 - val_loss: 0.0368 - val_accuracy: 0.9909\n",
      "Epoch 12/100\n",
      "1311/1313 [============================>.] - ETA: 0s - loss: 0.0300 - accuracy: 0.9906\n",
      "Epoch 00012: loss improved from 0.03349 to 0.02998, saving model to model_mnist.hdf5\n",
      "1313/1313 [==============================] - 7s 5ms/step - loss: 0.0300 - accuracy: 0.9906 - val_loss: 0.0403 - val_accuracy: 0.9907\n",
      "Epoch 13/100\n",
      "1310/1313 [============================>.] - ETA: 0s - loss: 0.0305 - accuracy: 0.9903\n",
      "Epoch 00013: loss did not improve from 0.02998\n",
      "1313/1313 [==============================] - 8s 6ms/step - loss: 0.0304 - accuracy: 0.9903 - val_loss: 0.0374 - val_accuracy: 0.9909\n",
      "Epoch 14/100\n",
      "1302/1313 [============================>.] - ETA: 0s - loss: 0.0276 - accuracy: 0.9914\n",
      "Epoch 00014: loss improved from 0.02998 to 0.02756, saving model to model_mnist.hdf5\n",
      "1313/1313 [==============================] - 8s 6ms/step - loss: 0.0276 - accuracy: 0.9914 - val_loss: 0.0339 - val_accuracy: 0.9918\n",
      "Epoch 15/100\n",
      "1306/1313 [============================>.] - ETA: 0s - loss: 0.0240 - accuracy: 0.9922\n",
      "Epoch 00015: loss improved from 0.02756 to 0.02397, saving model to model_mnist.hdf5\n",
      "1313/1313 [==============================] - 7s 5ms/step - loss: 0.0240 - accuracy: 0.9922 - val_loss: 0.0373 - val_accuracy: 0.9909\n",
      "Epoch 16/100\n",
      "1311/1313 [============================>.] - ETA: 0s - loss: 0.0252 - accuracy: 0.9921\n",
      "Epoch 00016: loss did not improve from 0.02397\n",
      "1313/1313 [==============================] - 8s 6ms/step - loss: 0.0252 - accuracy: 0.9921 - val_loss: 0.0424 - val_accuracy: 0.9908\n",
      "Epoch 17/100\n",
      "1311/1313 [============================>.] - ETA: 0s - loss: 0.0239 - accuracy: 0.9928\n",
      "Epoch 00017: loss improved from 0.02397 to 0.02395, saving model to model_mnist.hdf5\n",
      "1313/1313 [==============================] - 8s 6ms/step - loss: 0.0239 - accuracy: 0.9928 - val_loss: 0.0493 - val_accuracy: 0.9915\n",
      "Epoch 18/100\n",
      "1302/1313 [============================>.] - ETA: 0s - loss: 0.0248 - accuracy: 0.9925\n",
      "Epoch 00018: loss did not improve from 0.02395\n",
      "1313/1313 [==============================] - 7s 5ms/step - loss: 0.0247 - accuracy: 0.9925 - val_loss: 0.0404 - val_accuracy: 0.9919\n",
      "Epoch 19/100\n",
      "1310/1313 [============================>.] - ETA: 0s - loss: 0.0243 - accuracy: 0.9927\n",
      "Epoch 00019: loss did not improve from 0.02395\n",
      "1313/1313 [==============================] - 8s 6ms/step - loss: 0.0242 - accuracy: 0.9927 - val_loss: 0.0381 - val_accuracy: 0.9916\n",
      "Epoch 20/100\n",
      "1306/1313 [============================>.] - ETA: 0s - loss: 0.0218 - accuracy: 0.9934\n",
      "Epoch 00020: loss improved from 0.02395 to 0.02184, saving model to model_mnist.hdf5\n",
      "1313/1313 [==============================] - 7s 5ms/step - loss: 0.0218 - accuracy: 0.9934 - val_loss: 0.0371 - val_accuracy: 0.9917\n",
      "Epoch 00020: early stopping\n"
     ]
    }
   ],
   "source": [
    "batch_size = 32\n",
    "epochs = 100\n",
    "val_split = 0.3\n",
    "\n",
    "history = model.fit(x=x_train,\n",
    "    y=y_train,\n",
    "    batch_size=batch_size,\n",
    "    epochs=epochs,\n",
    "    verbose=1,\n",
    "    callbacks=[model_checkpoint,early_stopping,csv_logger,tensorboard_callback],\n",
    "    validation_split=val_split)"
   ]
  },
  {
   "cell_type": "code",
   "execution_count": 12,
   "metadata": {},
   "outputs": [
    {
     "name": "stdout",
     "output_type": "stream",
     "text": [
      "313/313 [==============================] - 1s 2ms/step - loss: 0.0263 - accuracy: 0.9934\n",
      "Test loss:  0.026308776810765266\n",
      "Test accuracy:  0.993399977684021\n"
     ]
    }
   ],
   "source": [
    "score = model.evaluate(x_test, y_test)\n",
    "print(\"Test loss: \", score[0])\n",
    "print(\"Test accuracy: \",score[1])"
   ]
  },
  {
   "cell_type": "code",
   "execution_count": 17,
   "metadata": {},
   "outputs": [
    {
     "data": {
      "text/plain": [
       "7"
      ]
     },
     "execution_count": 17,
     "metadata": {},
     "output_type": "execute_result"
    }
   ],
   "source": [
    "np.argmax(model.predict(np.expand_dims(x_test[0],axis=0)), axis=-1)[0]"
   ]
  },
  {
   "cell_type": "code",
   "execution_count": 24,
   "metadata": {},
   "outputs": [
    {
     "data": {
      "image/png": "[encoded data removed]",
      "text/plain": [
       "<Figure size 960x240 with 1 Axes>"
      ]
     },
     "metadata": {
      "needs_background": "light"
     },
     "output_type": "display_data"
    },
    {
     "data": {
      "image/png": "[encoded data removed]",
      "text/plain": [
       "<Figure size 960x240 with 1 Axes>"
      ]
     },
     "metadata": {
      "needs_background": "light"
     },
     "output_type": "display_data"
    }
   ],
   "source": [
    "history_dict = history.history\n",
    "\n",
    "loss_values = history_dict['loss']\n",
    "val_loss_values = history_dict['val_loss']\n",
    "acc_values = history_dict['accuracy']\n",
    "val_acc_values = history_dict['val_accuracy']\n",
    "epochs = range(1, len(loss_values) + 1)\n",
    "\n",
    "plt.figure(figsize=(12, 3), dpi=80)\n",
    "\n",
    "plt.subplot(1,2,1)\n",
    "line1 = plt.plot(epochs, val_loss_values, label='Validation loss')\n",
    "line2 = plt.plot(epochs, loss_values, label='Training loss')\n",
    "plt.setp(line1, linewidth=2.0, marker = '+', markersize=10.0)\n",
    "plt.setp(line2, linewidth=2.0, marker = '4', markersize=10.0)\n",
    "plt.xlabel('Epochs')\n",
    "plt.ylabel('Loss')\n",
    "plt.grid(True)\n",
    "plt.legend()\n",
    "plt.show()\n",
    "\n",
    "plt.figure(figsize=(12, 3), dpi=80)\n",
    "plt.subplot(1,2,2)\n",
    "line3 = plt.plot(epochs, val_acc_values, label='Validation accuracy')\n",
    "line4 = plt.plot(epochs, acc_values, label='Training accuracy')\n",
    "plt.setp(line3, linewidth=2.0, marker = '+', markersize=10.0)\n",
    "plt.setp(line4, linewidth=2.0, marker = '4', markersize=10.0)\n",
    "plt.xlabel('Epochs')\n",
    "plt.ylabel('Loss')\n",
    "plt.grid(True)\n",
    "plt.legend()\n",
    "plt.show()"
   ]
  },
  {
   "cell_type": "code",
   "execution_count": 25,
   "metadata": {},
   "outputs": [
    {
     "data": {
      "image/png": "[encoded data removed]",
      "text/plain": [
       "<Figure size 432x288 with 1 Axes>"
      ]
     },
     "metadata": {
      "needs_background": "light"
     },
     "output_type": "display_data"
    }
   ],
   "source": [
    "acc_values = history_dict['accuracy']\n",
    "val_acc_values = history_dict['val_accuracy']\n",
    "epochs = range(1, len(acc_values) + 1)\n",
    "\n",
    "line1 = plt.plot(epochs, val_acc_values, label='Validation accuracy')\n",
    "line2 = plt.plot(epochs, acc_values, label='Training accuracy')\n",
    "plt.setp(line1, linewidth=2.0, marker = '+', markersize=10.0)\n",
    "plt.setp(line2, linewidth=2.0, marker = '4', markersize=10.0)\n",
    "plt.xlabel('Epochs')\n",
    "plt.ylabel('Loss')\n",
    "plt.grid(True)\n",
    "plt.legend()\n",
    "plt.show()"
   ]
  },
  {
   "cell_type": "code",
   "execution_count": 26,
   "metadata": {},
   "outputs": [],
   "source": [
    "def draw_test(name, pred, input_im):\n",
    "    BLACK = [0,0,0]\n",
    "    expanded_image = cv2.copyMakeBorder(input_im, 0, 0, 0, input_im.shape[0], cv2.BORDER_CONSTANT, value=BLACK)\n",
    "    expanded_image = cv2.cvtColor(expanded_image, cv2.COLOR_GRAY2BGR)\n",
    "    cv2.putText(expanded_image, str(pred), (152, 70), cv2.FONT_HERSHEY_COMPLEX_SMALL,4,(0,255,0),2)\n",
    "    cv2.imshow(name, expanded_image)"
   ]
  },
  {
   "cell_type": "code",
   "execution_count": 27,
   "metadata": {},
   "outputs": [
    {
     "name": "stdout",
     "output_type": "stream",
     "text": [
      "WARNING:tensorflow:From <ipython-input-27-b6cb38395060>:8: Sequential.predict_classes (from tensorflow.python.keras.engine.sequential) is deprecated and will be removed after 2021-01-01.\n",
      "Instructions for updating:\n",
      "Please use instead:* `np.argmax(model.predict(x), axis=-1)`,   if your model does multi-class classification   (e.g. if it uses a `softmax` last-layer activation).* `(model.predict(x) > 0.5).astype(\"int32\")`,   if your model does binary classification   (e.g. if it uses a `sigmoid` last-layer activation).\n"
     ]
    }
   ],
   "source": [
    "for i in range(0,10):\n",
    "    rand = np.random.randint(0,len(x_test))\n",
    "    input_im = x_test[rand]\n",
    "    \n",
    "    imageL = cv2.resize(input_im, None, fx=4, fy=4, interpolation=cv2.INTER_CUBIC)\n",
    "    input_im = input_im.reshape(1,28,28,1)\n",
    "    \n",
    "    res = str(model.predict_classes(input_im, 1, verbose=0)[0])\n",
    "    \n",
    "    draw_test('Prediction', res, imageL)\n",
    "    cv2.waitKey(0)\n",
    "    \n",
    "cv2.destroyAllWindows()"
   ]
  }
 ],
 "metadata": {
  "kernelspec": {
   "display_name": "Python 3",
   "language": "python",
   "name": "python3"
  },
  "language_info": {
   "codemirror_mode": {
    "name": "ipython",
    "version": 3
   },
   "file_extension": ".py",
   "mimetype": "text/x-python",
   "name": "python",
   "nbconvert_exporter": "python",
   "pygments_lexer": "ipython3",
   "version": "3.8.5"
  }
 },
 "nbformat": 4,
 "nbformat_minor": 4
}
